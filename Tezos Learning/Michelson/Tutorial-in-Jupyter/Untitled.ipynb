{
 "cells": [
  {
   "cell_type": "code",
   "execution_count": 2,
   "id": "handy-surname",
   "metadata": {},
   "outputs": [
    {
     "name": "stdout",
     "output_type": "stream",
     "text": [
      "storage (map string int);\n",
      "parameter string;\n",
      "code { AMOUNT ; PUSH mutez 5000000 ; COMPARE ; GT ; IF { { UNIT ; FAILWITH } } {} ; DUP ; DIP { CDR ; DUP } ; CAR ; DUP ; DIP { GET ; { IF_NONE { { UNIT ; FAILWITH } } { RENAME } } ; PUSH int 1 ; ADD ; SOME } ; UPDATE ; NIL operation ; PAIR };"
     ]
    }
   ],
   "source": [
    "storage (map string int) ;\n",
    "parameter string ;\n",
    "code { AMOUNT ; PUSH mutez 5000000 ;\n",
    "# FAIL if amount send is less than 5tez\n",
    "COMPARE ; GT ; IF { FAIL } {} ;\n",
    "# Dups the map\n",
    "DUP ; DIP { CDR ; DUP } ;\n",
    "CAR ; DUP ;\n",
    "# stack: ::string::string::map::map\n",
    "# gets the value associated to string in the map\n",
    "DIP { GET ; ASSERT_SOME ;\n",
    "# Checks if input parameter is one of the choices\n",
    "PUSH int 1 ; ADD ; SOME } ;\n",
    "# stack: ::string::option int::map::\n",
    "# updates the map\n",
    "UPDATE ;\n",
    "# returns the pair (storage, operations)\n",
    "NIL operation ; PAIR };"
   ]
  },
  {
   "cell_type": "code",
   "execution_count": null,
   "id": "filled-vinyl",
   "metadata": {},
   "outputs": [],
   "source": []
  }
 ],
 "metadata": {
  "kernelspec": {
   "display_name": "Michelson",
   "language": "michelson",
   "name": "michelson"
  },
  "language_info": {
   "codemirror_mode": "michelson",
   "file_extension": ".tz",
   "mimetype": "text/x-michelson",
   "name": "Michelson"
  },
  "toc": {
   "base_numbering": 1,
   "nav_menu": {},
   "number_sections": true,
   "sideBar": true,
   "skip_h1_title": false,
   "title_cell": "Table of Contents",
   "title_sidebar": "Contents",
   "toc_cell": false,
   "toc_position": {},
   "toc_section_display": true,
   "toc_window_display": false
  }
 },
 "nbformat": 4,
 "nbformat_minor": 5
}
